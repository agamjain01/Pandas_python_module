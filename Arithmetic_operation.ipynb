{
 "cells": [
  {
   "cell_type": "code",
   "execution_count": 4,
   "id": "b8ec12b9-77f8-4be5-a419-b4750237cef2",
   "metadata": {},
   "outputs": [
    {
     "name": "stdout",
     "output_type": "stream",
     "text": [
      "    A  S   B\n",
      "0  12  1  12\n",
      "1   3  2   3\n",
      "2   1  3   4\n",
      "3   3  4   5\n",
      "4   4  5   6\n"
     ]
    }
   ],
   "source": [
    "import pandas as pd\n",
    "\n",
    "x={\"A\":[12,3,1,3,4],\"S\":[1,2,3,4,5],\"B\":[12,3,4,5,6]}\n",
    "\n",
    "var=pd.DataFrame(x)\n",
    "\n",
    "print(var)"
   ]
  },
  {
   "cell_type": "code",
   "execution_count": 18,
   "id": "a6ee7c3c-3de0-48ed-ab3a-dca5a4714961",
   "metadata": {},
   "outputs": [
    {
     "name": "stdout",
     "output_type": "stream",
     "text": [
      "    A  Add  A+b  S   B\n",
      "0  12   24   24  1  12\n",
      "1   3    6    6  2   3\n",
      "2   1    5    5  3   4\n",
      "3   3    8    8  4   5\n",
      "4   4   10   10  5   6\n"
     ]
    }
   ],
   "source": [
    "var.insert(1,\"Add\",var[\"A\"]+var[\"B\"])\n",
    "print(var)\n",
    "\n",
    "\n"
   ]
  },
  {
   "cell_type": "code",
   "execution_count": 19,
   "id": "e377d43d-b9a3-4311-9e73-01ef6d197d4a",
   "metadata": {},
   "outputs": [
    {
     "data": {
      "text/plain": [
       "0    24\n",
       "1     6\n",
       "2     5\n",
       "3     8\n",
       "4    10\n",
       "Name: A+b, dtype: int64"
      ]
     },
     "execution_count": 19,
     "metadata": {},
     "output_type": "execute_result"
    }
   ],
   "source": [
    "del var[\"Add\"]\n",
    "var.pop(\"A+b\")"
   ]
  },
  {
   "cell_type": "code",
   "execution_count": 20,
   "id": "50b63084-43eb-498f-8a8a-ac05500d51a8",
   "metadata": {},
   "outputs": [
    {
     "name": "stdout",
     "output_type": "stream",
     "text": [
      "    A  Add  S   B\n",
      "0  12   24  1  12\n",
      "1   3    6  2   3\n",
      "2   1    5  3   4\n",
      "3   3    8  4   5\n",
      "4   4   10  5   6\n"
     ]
    }
   ],
   "source": [
    "var.insert(1,\"Add\",var[\"A\"]+var[\"B\"])\n",
    "print(var)"
   ]
  },
  {
   "cell_type": "code",
   "execution_count": 21,
   "id": "ed870b17-028f-4d6c-b535-4ea5d999f045",
   "metadata": {},
   "outputs": [
    {
     "name": "stdout",
     "output_type": "stream",
     "text": [
      "    A  Sub  Add  S   B\n",
      "0  12    0   24  1  12\n",
      "1   3    0    6  2   3\n",
      "2   1   -3    5  3   4\n",
      "3   3   -2    8  4   5\n",
      "4   4   -2   10  5   6\n"
     ]
    }
   ],
   "source": [
    "var.insert(1,\"Sub\",var[\"A\"]-var[\"B\"])\n",
    "print(var)"
   ]
  },
  {
   "cell_type": "code",
   "execution_count": 22,
   "id": "3ede6016-2759-4653-a4dc-1d3f321b38b1",
   "metadata": {},
   "outputs": [
    {
     "name": "stdout",
     "output_type": "stream",
     "text": [
      "    A    divide  Sub  Add  S   B\n",
      "0  12  1.000000    0   24  1  12\n",
      "1   3  1.000000    0    6  2   3\n",
      "2   1  0.250000   -3    5  3   4\n",
      "3   3  0.600000   -2    8  4   5\n",
      "4   4  0.666667   -2   10  5   6\n"
     ]
    }
   ],
   "source": [
    "var.insert(1,\"divide\",var[\"A\"]/var[\"B\"])\n",
    "print(var)"
   ]
  },
  {
   "cell_type": "code",
   "execution_count": 23,
   "id": "316d1806-287f-438f-b7ee-fb3c79736b30",
   "metadata": {},
   "outputs": [
    {
     "name": "stdout",
     "output_type": "stream",
     "text": [
      "    A  Mult    divide  Sub  Add  S   B\n",
      "0  12   144  1.000000    0   24  1  12\n",
      "1   3     9  1.000000    0    6  2   3\n",
      "2   1     4  0.250000   -3    5  3   4\n",
      "3   3    15  0.600000   -2    8  4   5\n",
      "4   4    24  0.666667   -2   10  5   6\n"
     ]
    }
   ],
   "source": [
    "var.insert(1,\"Mult\",var[\"A\"]*var[\"B\"])\n",
    "print(var)"
   ]
  },
  {
   "cell_type": "code",
   "execution_count": 29,
   "id": "330e512d-4c03-459c-bf79-32b55696fd6a",
   "metadata": {},
   "outputs": [
    {
     "name": "stdout",
     "output_type": "stream",
     "text": [
      "    A  A<=b  S   B\n",
      "0  12  True  1  12\n",
      "1   3  True  2   3\n",
      "2   1  True  3   4\n",
      "3   3  True  4   5\n",
      "4   4  True  5   6\n"
     ]
    }
   ],
   "source": [
    "import pandas as pd\n",
    "\n",
    "x={\"A\":[12,3,1,3,4],\"S\":[1,2,3,4,5],\"B\":[12,3,4,5,6]}\n",
    "\n",
    "var1=pd.DataFrame(x)\n",
    "\n",
    "var1.insert(1,\"A<=b\",var1[\"A\"]<=var[\"B\"])\n",
    "\n",
    "print(var1)\n"
   ]
  },
  {
   "cell_type": "code",
   "execution_count": 30,
   "id": "647484f1-6174-418a-9b1e-16696aceb5e7",
   "metadata": {},
   "outputs": [
    {
     "name": "stdout",
     "output_type": "stream",
     "text": [
      "    A    A>b  A<=b  S   B\n",
      "0  12  False  True  1  12\n",
      "1   3  False  True  2   3\n",
      "2   1  False  True  3   4\n",
      "3   3  False  True  4   5\n",
      "4   4  False  True  5   6\n"
     ]
    }
   ],
   "source": [
    "var1.insert(1,\"A>b\",var1[\"A\"]>var[\"B\"])\n",
    "\n",
    "print(var1)"
   ]
  },
  {
   "cell_type": "code",
   "execution_count": null,
   "id": "12beea41-c16e-45c2-a850-7e4c85b9f489",
   "metadata": {},
   "outputs": [],
   "source": []
  }
 ],
 "metadata": {
  "kernelspec": {
   "display_name": "Python 3 (ipykernel)",
   "language": "python",
   "name": "python3"
  },
  "language_info": {
   "codemirror_mode": {
    "name": "ipython",
    "version": 3
   },
   "file_extension": ".py",
   "mimetype": "text/x-python",
   "name": "python",
   "nbconvert_exporter": "python",
   "pygments_lexer": "ipython3",
   "version": "3.11.7"
  }
 },
 "nbformat": 4,
 "nbformat_minor": 5
}
