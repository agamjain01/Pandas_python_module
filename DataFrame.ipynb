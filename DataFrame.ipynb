{
 "cells": [
  {
   "cell_type": "code",
   "execution_count": 1,
   "id": "878cd0ad-46e1-4076-a806-f5dcf628a70a",
   "metadata": {},
   "outputs": [],
   "source": [
    "# data Frame "
   ]
  },
  {
   "cell_type": "code",
   "execution_count": 12,
   "id": "53ee2745-56a6-4380-a402-b3d0656c8664",
   "metadata": {},
   "outputs": [
    {
     "name": "stdout",
     "output_type": "stream",
     "text": [
      "     Name  Rank City\n",
      "1    Agam     2   UP\n",
      "2  Hardik     3   UP\n",
      "3     Dev     5   MP\n",
      "4   Harsh     1   UP\n"
     ]
    }
   ],
   "source": [
    "import pandas as pd \n",
    "\n",
    "x={\"Name\":[\"Agam\",\"Hardik\",\"Dev\",\"Harsh\"],\"Rank\":[2,3,5,1],\"City\":[\"UP\",\"UP\",\"MP\",\"UP\"]}\n",
    "var =pd.DataFrame(x,index=[1,2,3,4])\n",
    "\n",
    "print(var)"
   ]
  },
  {
   "cell_type": "code",
   "execution_count": 22,
   "id": "0a2a3882-3bf3-4cf4-a9ab-63707430ca6c",
   "metadata": {},
   "outputs": [
    {
     "name": "stdout",
     "output_type": "stream",
     "text": [
      "     Name City\n",
      "1    Agam   UP\n",
      "2  Hardik   UP\n",
      "3     Dev   MP\n",
      "4   Harsh   UP\n"
     ]
    }
   ],
   "source": [
    "var1 =pd.DataFrame(x,index=[1,2,3,4],columns=[\"Name\",\"City\"])\n",
    "print(var1)"
   ]
  },
  {
   "cell_type": "code",
   "execution_count": null,
   "id": "eec0e3e4-8812-4fca-bb41-8213dfb92327",
   "metadata": {},
   "outputs": [],
   "source": []
  }
 ],
 "metadata": {
  "kernelspec": {
   "display_name": "Python 3 (ipykernel)",
   "language": "python",
   "name": "python3"
  },
  "language_info": {
   "codemirror_mode": {
    "name": "ipython",
    "version": 3
   },
   "file_extension": ".py",
   "mimetype": "text/x-python",
   "name": "python",
   "nbconvert_exporter": "python",
   "pygments_lexer": "ipython3",
   "version": "3.11.7"
  }
 },
 "nbformat": 4,
 "nbformat_minor": 5
}
