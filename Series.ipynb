{
 "cells": [
  {
   "cell_type": "code",
   "execution_count": 2,
   "id": "1e2d4366-9d9e-425d-9cf3-f0b60ce34f0e",
   "metadata": {},
   "outputs": [],
   "source": [
    "import pandas as pd"
   ]
  },
  {
   "cell_type": "code",
   "execution_count": 3,
   "id": "ef8e0757-8377-4bb3-96ea-49c67a262eb5",
   "metadata": {},
   "outputs": [],
   "source": [
    "#Series by list"
   ]
  },
  {
   "cell_type": "code",
   "execution_count": 30,
   "id": "382a8c00-5671-4040-868a-85a841f07f44",
   "metadata": {},
   "outputs": [
    {
     "name": "stdout",
     "output_type": "stream",
     "text": [
      "a    1.0\n",
      "s    2.0\n",
      "d    3.0\n",
      "f    4.0\n",
      "g    5.0\n",
      "h    6.0\n",
      "dtype: float64\n",
      "<class 'pandas.core.series.Series'>\n"
     ]
    }
   ],
   "source": [
    "x=[1,2,3,4,5,6,]\n",
    "var=pd.Series(x,index=[\"a\",\"s\",\"d\",\"f\",\"g\",\"h\"],dtype=\"float\")\n",
    "print(var)\n",
    "print(type(var))\n",
    "var.to_csv(\"test.csv\",index=False)"
   ]
  },
  {
   "cell_type": "code",
   "execution_count": 16,
   "id": "e8dbb867-71e7-4741-96f5-29c18981d7ff",
   "metadata": {},
   "outputs": [],
   "source": [
    "# series by Dictionary"
   ]
  },
  {
   "cell_type": "code",
   "execution_count": 31,
   "id": "c98cceab-3912-488f-a807-180b62184a66",
   "metadata": {},
   "outputs": [
    {
     "name": "stdout",
     "output_type": "stream",
     "text": [
      "a    [1, 2, 3, 4, 5]\n",
      "s    [4, 5, 5, 6, 4]\n",
      "dtype: object\n"
     ]
    }
   ],
   "source": [
    "var={\"a\":[1,2,3,4,5],\"s\":[4,5,5,6,4]}\n",
    "var2=pd.Series(var)\n",
    "\n",
    "print(var2)"
   ]
  },
  {
   "cell_type": "code",
   "execution_count": null,
   "id": "6b518366-3a4f-4689-89e6-545a64cc7fd6",
   "metadata": {},
   "outputs": [],
   "source": []
  }
 ],
 "metadata": {
  "kernelspec": {
   "display_name": "Python 3 (ipykernel)",
   "language": "python",
   "name": "python3"
  },
  "language_info": {
   "codemirror_mode": {
    "name": "ipython",
    "version": 3
   },
   "file_extension": ".py",
   "mimetype": "text/x-python",
   "name": "python",
   "nbconvert_exporter": "python",
   "pygments_lexer": "ipython3",
   "version": "3.11.7"
  }
 },
 "nbformat": 4,
 "nbformat_minor": 5
}
